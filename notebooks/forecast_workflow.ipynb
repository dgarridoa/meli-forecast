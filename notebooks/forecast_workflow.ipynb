{
 "cells": [
  {
   "cell_type": "code",
   "execution_count": 1,
   "id": "e7290d4d-f097-4cea-8a88-03878a8116a4",
   "metadata": {},
   "outputs": [],
   "source": [
    "import os\n",
    "import shutil\n",
    "import yaml\n",
    "import tempfile\n",
    "from pathlib import Path"
   ]
  },
  {
   "cell_type": "code",
   "execution_count": 2,
   "id": "de0b69e9-8dc0-46ce-afcb-b2377d0b87df",
   "metadata": {},
   "outputs": [],
   "source": [
    "project_root = Path(\".\").absolute().parent"
   ]
  },
  {
   "cell_type": "code",
   "execution_count": 3,
   "id": "83147e6c-079b-45b7-855f-b90a7b836cc7",
   "metadata": {},
   "outputs": [],
   "source": [
    "os.chdir(project_root)"
   ]
  },
  {
   "cell_type": "code",
   "execution_count": 4,
   "id": "703fc13a-f22a-452a-876e-ad91fede00d7",
   "metadata": {},
   "outputs": [
    {
     "name": "stderr",
     "output_type": "stream",
     "text": [
      "Importing plotly failed. Interactive plots will not work.\n"
     ]
    }
   ],
   "source": [
    "import mlflow\n",
    "import pandas as pd\n",
    "from pyspark.sql import SparkSession, DataFrame\n",
    "from delta import configure_spark_with_delta_pip\n",
    "from meli_forecast.params import Params\n",
    "from meli_forecast.tasks.create_database import CreateDataBaseTask\n",
    "from meli_forecast.tasks.create_tables import CreateTablesTask\n",
    "from meli_forecast.tasks.ingestion import IngestionTask\n",
    "from meli_forecast.tasks.input import InputTask\n",
    "from meli_forecast.tasks.split import SplitTask\n",
    "from meli_forecast.tasks.model import ModelTask\n",
    "from meli_forecast.tasks.evaluation import EvaluationTask\n",
    "from meli_forecast.tasks.output import OutputTask\n",
    "from meli_forecast.utils import write_delta_table\n",
    "from meli_forecast.schemas import ForecastSchema"
   ]
  },
  {
   "cell_type": "code",
   "execution_count": 5,
   "id": "ce1059e6-671f-4dd1-8a20-0d7a2832ae30",
   "metadata": {},
   "outputs": [],
   "source": [
    "conf_file = \"conf/dev_config.yml\"\n",
    "config = yaml.safe_load(Path(conf_file).read_text())\n",
    "params = Params(**config)"
   ]
  },
  {
   "cell_type": "markdown",
   "id": "db4feb66-d4b9-4304-9bf0-df0b76a3ba84",
   "metadata": {},
   "source": [
    "# Setting Spark Session"
   ]
  },
  {
   "cell_type": "code",
   "execution_count": 6,
   "id": "9925ed34-5d5b-401e-8e00-b11721fbe421",
   "metadata": {},
   "outputs": [
    {
     "name": "stderr",
     "output_type": "stream",
     "text": [
      "24/08/14 16:00:23 WARN Utils: Your hostname, dgarridoa-MS-7C75 resolves to a loopback address: 127.0.1.1; using 192.168.100.11 instead (on interface enp3s0)\n",
      "24/08/14 16:00:23 WARN Utils: Set SPARK_LOCAL_IP if you need to bind to another address\n",
      "Ivy Default Cache set to: /home/dgarridoa/.ivy2/cache\n",
      "The jars for the packages stored in: /home/dgarridoa/.ivy2/jars\n",
      "io.delta#delta-spark_2.12 added as a dependency\n",
      ":: resolving dependencies :: org.apache.spark#spark-submit-parent-fbd8e5ca-aa7c-48c9-8eb9-0e16fb01532b;1.0\n",
      "\tconfs: [default]\n"
     ]
    },
    {
     "name": "stdout",
     "output_type": "stream",
     "text": [
      ":: loading settings :: url = jar:file:/home/dgarridoa/.cache/pypoetry/virtualenvs/meli-forecast-x6SuGLy_-py3.11/lib/python3.11/site-packages/pyspark/jars/ivy-2.5.1.jar!/org/apache/ivy/core/settings/ivysettings.xml\n"
     ]
    },
    {
     "name": "stderr",
     "output_type": "stream",
     "text": [
      "\tfound io.delta#delta-spark_2.12;3.2.0 in central\n",
      "\tfound io.delta#delta-storage;3.2.0 in central\n",
      "\tfound org.antlr#antlr4-runtime;4.9.3 in central\n",
      ":: resolution report :: resolve 93ms :: artifacts dl 4ms\n",
      "\t:: modules in use:\n",
      "\tio.delta#delta-spark_2.12;3.2.0 from central in [default]\n",
      "\tio.delta#delta-storage;3.2.0 from central in [default]\n",
      "\torg.antlr#antlr4-runtime;4.9.3 from central in [default]\n",
      "\t---------------------------------------------------------------------\n",
      "\t|                  |            modules            ||   artifacts   |\n",
      "\t|       conf       | number| search|dwnlded|evicted|| number|dwnlded|\n",
      "\t---------------------------------------------------------------------\n",
      "\t|      default     |   3   |   0   |   0   |   0   ||   3   |   0   |\n",
      "\t---------------------------------------------------------------------\n",
      ":: retrieving :: org.apache.spark#spark-submit-parent-fbd8e5ca-aa7c-48c9-8eb9-0e16fb01532b\n",
      "\tconfs: [default]\n",
      "\t0 artifacts copied, 3 already retrieved (0kB/3ms)\n",
      "24/08/14 16:00:23 WARN NativeCodeLoader: Unable to load native-hadoop library for your platform... using builtin-java classes where applicable\n",
      "Setting default log level to \"WARN\".\n",
      "To adjust logging level use sc.setLogLevel(newLevel). For SparkR, use setLogLevel(newLevel).\n"
     ]
    }
   ],
   "source": [
    "warehouse_dir = tempfile.TemporaryDirectory().name\n",
    "_builder = (\n",
    "    SparkSession.builder.master(\"local[*]\")\n",
    "    .config(\n",
    "        \"spark.hive.metastore.warehouse.dir\", Path(warehouse_dir).as_uri()\n",
    "    )\n",
    "    .config(\n",
    "        \"spark.sql.extensions\", \"io.delta.sql.DeltaSparkSessionExtension\"\n",
    "    )\n",
    "    .config(\n",
    "        \"spark.sql.catalog.spark_catalog\",\n",
    "        \"org.apache.spark.sql.delta.catalog.DeltaCatalog\",\n",
    "    )\n",
    "    .config(\"spark.sql.execution.arrow.pyspark.enabled\", \"true\")\n",
    "    .config(\"spark.sql.execution.arrow.pyspark.fallback.enabled\", \"true\")\n",
    ")\n",
    "spark: SparkSession = configure_spark_with_delta_pip(\n",
    "    _builder\n",
    ").getOrCreate()"
   ]
  },
  {
   "cell_type": "code",
   "execution_count": 39,
   "id": "97c718b0-3804-41b5-808b-fbc4bfefdfc5",
   "metadata": {},
   "outputs": [],
   "source": [
    "spark.sparkContext.setLogLevel(\"ERROR\")"
   ]
  },
  {
   "cell_type": "markdown",
   "id": "6715559b-68bb-4bfa-85a4-eae120cc2f46",
   "metadata": {},
   "source": [
    "# Setting MLflow tracking server"
   ]
  },
  {
   "cell_type": "code",
   "execution_count": 7,
   "id": "905a0ffa-e32a-4f97-984b-4ab6b48f9c75",
   "metadata": {},
   "outputs": [],
   "source": [
    "tracking_uri = tempfile.TemporaryDirectory().name\n",
    "registry_uri = f\"sqlite:///{tempfile.TemporaryDirectory().name}\"\n",
    "\n",
    "mlflow.set_tracking_uri(Path(tracking_uri).as_uri())\n",
    "mlflow.set_registry_uri(registry_uri)\n",
    "os.environ[\n",
    "    \"MLFLOW_EXPERIMENT_NAME\"\n",
    "] = \"/Shared/meli_forecast/dev_meli_forecast\""
   ]
  },
  {
   "cell_type": "markdown",
   "id": "bb6b6c04-ea32-41f9-af82-db3c72cb6ef1",
   "metadata": {},
   "source": [
    "# Create Database Task"
   ]
  },
  {
   "cell_type": "code",
   "execution_count": 15,
   "id": "e26ebca2-f131-4cb2-be38-1b9031993f28",
   "metadata": {},
   "outputs": [],
   "source": [
    "task = CreateDataBaseTask(params.common)\n",
    "task.launch(spark)"
   ]
  },
  {
   "cell_type": "markdown",
   "id": "8be82d75-cca8-4f08-b8f6-59c56f816426",
   "metadata": {},
   "source": [
    "#  Create Tables Task"
   ]
  },
  {
   "cell_type": "code",
   "execution_count": 16,
   "id": "4ff2760d-c0d7-4904-af7a-d77d8d1774f8",
   "metadata": {},
   "outputs": [],
   "source": [
    "create_database_task = CreateTablesTask(params.common)\n",
    "create_database_task.launch(spark)"
   ]
  },
  {
   "cell_type": "markdown",
   "id": "76e80e20-780e-4500-b65d-15d48f32a848",
   "metadata": {},
   "source": [
    "# Ingestion Task"
   ]
  },
  {
   "cell_type": "code",
   "execution_count": 17,
   "id": "ae34b9e2-bf1e-4af9-a2e3-0d6e2475eec7",
   "metadata": {},
   "outputs": [
    {
     "name": "stderr",
     "output_type": "stream",
     "text": [
      "24/08/14 16:02:22 WARN SparkStringUtils: Truncated the string representation of a plan since it was too large. This behavior can be adjusted by setting 'spark.sql.debug.maxToStringFields'.\n",
      "                                                                                \r"
     ]
    }
   ],
   "source": [
    "ingestion_task = IngestionTask(params.ingestion)\n",
    "ingestion_task.launch(spark)"
   ]
  },
  {
   "cell_type": "markdown",
   "id": "58bf457a-fa41-4030-904d-eefcb3180365",
   "metadata": {},
   "source": [
    "# Input Task"
   ]
  },
  {
   "cell_type": "code",
   "execution_count": 18,
   "id": "26ff4111-e05f-44c8-b85f-1ef206975d39",
   "metadata": {},
   "outputs": [
    {
     "name": "stderr",
     "output_type": "stream",
     "text": [
      "                                                                                \r"
     ]
    }
   ],
   "source": [
    "input_task = InputTask(params.common)\n",
    "input_task.launch(spark)"
   ]
  },
  {
   "cell_type": "markdown",
   "id": "a3461d80-5047-4beb-bf59-04adde644055",
   "metadata": {},
   "source": [
    "# Split Task"
   ]
  },
  {
   "cell_type": "code",
   "execution_count": 19,
   "id": "dcc523c9-c5bb-4955-ab5c-a7109267ad3e",
   "metadata": {},
   "outputs": [
    {
     "name": "stderr",
     "output_type": "stream",
     "text": [
      "                                                                                \r"
     ]
    }
   ],
   "source": [
    "split_task = SplitTask(params.split)\n",
    "split_task.launch(spark)"
   ]
  },
  {
   "cell_type": "markdown",
   "id": "0a41f028-019c-475d-9270-19b799d22ee1",
   "metadata": {},
   "source": [
    "# Model Task"
   ]
  },
  {
   "cell_type": "code",
   "execution_count": 20,
   "id": "36a7f3ba-c3d1-41d2-988a-59a8cf325f7b",
   "metadata": {},
   "outputs": [],
   "source": [
    "df_split = spark.read.table(\"dev.split\")\n",
    "num_partitions = (\n",
    "    df_split.select(*split_task.params.group_columns).distinct().cache().count()\n",
    ")\n",
    "df_split = df_split.repartition(num_partitions, *split_task.params.group_columns).cache()"
   ]
  },
  {
   "cell_type": "code",
   "execution_count": 21,
   "id": "f8cf5717-facd-47c7-983c-60dd71e1dfde",
   "metadata": {},
   "outputs": [],
   "source": [
    "def get_forecast(task, df_split: DataFrame) -> tuple[pd.DataFrame, pd.DataFrame]:\n",
    "    df_train = df_split.filter(df_split[\"split\"] == \"train\")\n",
    "    pdf_forecast_on_test = task.fit_predict(df_train, task.params.test_size).toPandas()\n",
    "    pdf_forecast = task.fit_predict(df_split, task.params.steps).toPandas()\n",
    "    return pdf_forecast_on_test, pdf_forecast"
   ]
  },
  {
   "cell_type": "code",
   "execution_count": null,
   "id": "303e7546-9162-4e5c-82ed-96cfff4b46f5",
   "metadata": {
    "collapsed": true,
    "jupyter": {
     "outputs_hidden": true
    },
    "scrolled": true
   },
   "outputs": [],
   "source": [
    "def get_forecast(task, df_split: DataFrame) -> tuple[DataFrame, DataFrame]:\n",
    "    df_train = df_split.filter(df_split[\"split\"] == \"train\")\n",
    "    df_forecast_on_test = task.fit_predict(df_train, task.params.test_size)\n",
    "    df_forecast = task.fit_predict(df_split, task.params.steps)\n",
    "    return df_forecast_on_test, df_forecast\n",
    "\n",
    "\n",
    "models = [\n",
    "    \"ExponentialSmoothing\",\n",
    "    \"Prophet\",\n",
    "    \"XGBModel\",\n",
    "    \"RandomForest\",\n",
    "    \"Croston\",\n",
    "    \"NaiveMean\",\n",
    "    \"NaiveMovingAverage\"\n",
    "    \n",
    "]\n",
    "forecast_on_test = []\n",
    "all_models_forecast = []\n",
    "\n",
    "for model in models:\n",
    "    model_task =  ModelTask(params.models[model])\n",
    "    df_forecast_on_test, df_forecast = get_forecast(model_task, df_split)\n",
    "    forecast_on_test.append(df_forecast_on_test.toPandas())\n",
    "    all_models_forecast.append(df_forecast.toPandas())"
   ]
  },
  {
   "cell_type": "code",
   "execution_count": 25,
   "id": "bcd8640f-f943-4b4d-97bb-04472fc2cf33",
   "metadata": {},
   "outputs": [],
   "source": [
    "df_forecast_on_test = pd.concat(forecast_on_test)\n",
    "df_all_models_forecast = pd.concat(all_models_forecast)"
   ]
  },
  {
   "cell_type": "code",
   "execution_count": 37,
   "id": "c2b5fee1-19fe-4cc4-89fa-3f541d4f7bdb",
   "metadata": {},
   "outputs": [],
   "source": [
    "write_delta_table(\n",
    "    spark,\n",
    "    spark.createDataFrame(df_forecast_on_test, schema=ForecastSchema),\n",
    "    ForecastSchema,\n",
    "    model_task.params.database,\n",
    "    \"forecast_on_test\",\n",
    ")"
   ]
  },
  {
   "cell_type": "code",
   "execution_count": 38,
   "id": "3211c79f-efdb-4224-8bd8-589932138605",
   "metadata": {},
   "outputs": [],
   "source": [
    "write_delta_table(\n",
    "    spark,\n",
    "    spark.createDataFrame(df_all_models_forecast, schema=ForecastSchema),\n",
    "    ForecastSchema,\n",
    "    model_task.params.database,\n",
    "    \"all_models_forecast\",\n",
    ")"
   ]
  },
  {
   "cell_type": "markdown",
   "id": "ff286da6-8f21-486e-a2e2-5b4191a22a78",
   "metadata": {},
   "source": [
    "# Evaluation Task"
   ]
  },
  {
   "cell_type": "code",
   "execution_count": 40,
   "id": "917c24ba-22d4-470f-8dcc-0a91cd3829a3",
   "metadata": {
    "scrolled": true
   },
   "outputs": [
    {
     "name": "stderr",
     "output_type": "stream",
     "text": [
      "                                                                                \r"
     ]
    }
   ],
   "source": [
    "task = EvaluationTask(params.evaluation)\n",
    "task.launch(spark)"
   ]
  },
  {
   "cell_type": "markdown",
   "id": "0b516bca-1385-481d-97f7-463d914b9449",
   "metadata": {},
   "source": [
    "# Output Task"
   ]
  },
  {
   "cell_type": "code",
   "execution_count": 41,
   "id": "64591f71-6017-4c52-8970-dd2ae2a809da",
   "metadata": {},
   "outputs": [],
   "source": [
    "task = OutputTask(params.output)\n",
    "task.launch(spark)"
   ]
  },
  {
   "cell_type": "markdown",
   "id": "ce2951d7-42fa-4ec4-98e0-ede8d476cf99",
   "metadata": {},
   "source": [
    "# Results"
   ]
  },
  {
   "cell_type": "code",
   "execution_count": 42,
   "id": "0da9a8a0-4fd1-41cd-b35f-38f50b295d6f",
   "metadata": {},
   "outputs": [
    {
     "name": "stdout",
     "output_type": "stream",
     "text": [
      "+---------+-------------------+-----------+\n",
      "|namespace|          tableName|isTemporary|\n",
      "+---------+-------------------+-----------+\n",
      "|      dev|all_models_forecast|      false|\n",
      "|      dev|        best_models|      false|\n",
      "|      dev|           forecast|      false|\n",
      "|      dev|   forecast_on_test|      false|\n",
      "|      dev|                geo|      false|\n",
      "|      dev|              input|      false|\n",
      "|      dev|            metrics|      false|\n",
      "|      dev|             output|      false|\n",
      "|      dev|              sales|      false|\n",
      "|      dev|              split|      false|\n",
      "+---------+-------------------+-----------+\n",
      "\n"
     ]
    }
   ],
   "source": [
    "spark.sql(\"show tables from dev\").show()"
   ]
  },
  {
   "cell_type": "code",
   "execution_count": 43,
   "id": "d8d0cd3a-1aa7-4407-9a71-ebe6965d4a84",
   "metadata": {},
   "outputs": [],
   "source": [
    "df_mae = spark.sql(\"\"\"\n",
    "    select\n",
    "      *\n",
    "    from\n",
    "      dev.metrics\n",
    "    where\n",
    "      metric = 'mae'\n",
    "    union\n",
    "    select\n",
    "      \"Champion\" as model,\n",
    "      city,\n",
    "      product_id,\n",
    "      metric,\n",
    "      value\n",
    "    from\n",
    "      dev.best_models\n",
    "    \"\"\"\n",
    ").toPandas()"
   ]
  },
  {
   "cell_type": "code",
   "execution_count": 44,
   "id": "77dfcb66-34e5-40a3-a340-16f09e2d4440",
   "metadata": {},
   "outputs": [
    {
     "data": {
      "text/html": [
       "<div>\n",
       "<style scoped>\n",
       "    .dataframe tbody tr th:only-of-type {\n",
       "        vertical-align: middle;\n",
       "    }\n",
       "\n",
       "    .dataframe tbody tr th {\n",
       "        vertical-align: top;\n",
       "    }\n",
       "\n",
       "    .dataframe thead th {\n",
       "        text-align: right;\n",
       "    }\n",
       "</style>\n",
       "<table border=\"1\" class=\"dataframe\">\n",
       "  <thead>\n",
       "    <tr style=\"text-align: right;\">\n",
       "      <th></th>\n",
       "      <th>model</th>\n",
       "      <th>city</th>\n",
       "      <th>product_id</th>\n",
       "      <th>metric</th>\n",
       "      <th>value</th>\n",
       "    </tr>\n",
       "  </thead>\n",
       "  <tbody>\n",
       "    <tr>\n",
       "      <th>0</th>\n",
       "      <td>Croston</td>\n",
       "      <td>B2</td>\n",
       "      <td>543de64b-7c34-4283-8c8c-7592057af4f8</td>\n",
       "      <td>mae</td>\n",
       "      <td>0.334764</td>\n",
       "    </tr>\n",
       "    <tr>\n",
       "      <th>1</th>\n",
       "      <td>Croston</td>\n",
       "      <td>B3</td>\n",
       "      <td>b1660dad-f9c4-4cfe-9d63-5c97e820afbb</td>\n",
       "      <td>mae</td>\n",
       "      <td>4292.539411</td>\n",
       "    </tr>\n",
       "    <tr>\n",
       "      <th>2</th>\n",
       "      <td>Croston</td>\n",
       "      <td>M3</td>\n",
       "      <td>6b6a2f69-a0d7-4d7a-b191-570f267f315e</td>\n",
       "      <td>mae</td>\n",
       "      <td>2598.129639</td>\n",
       "    </tr>\n",
       "    <tr>\n",
       "      <th>3</th>\n",
       "      <td>Croston</td>\n",
       "      <td>M4</td>\n",
       "      <td>c37c63fa-c946-4c83-b5f6-cafaf7371038</td>\n",
       "      <td>mae</td>\n",
       "      <td>788.396973</td>\n",
       "    </tr>\n",
       "    <tr>\n",
       "      <th>4</th>\n",
       "      <td>Croston</td>\n",
       "      <td>M5</td>\n",
       "      <td>9de8c74d-219a-41a3-943f-05780f46d629</td>\n",
       "      <td>mae</td>\n",
       "      <td>2.850000</td>\n",
       "    </tr>\n",
       "  </tbody>\n",
       "</table>\n",
       "</div>"
      ],
      "text/plain": [
       "     model city                            product_id metric        value\n",
       "0  Croston   B2  543de64b-7c34-4283-8c8c-7592057af4f8    mae     0.334764\n",
       "1  Croston   B3  b1660dad-f9c4-4cfe-9d63-5c97e820afbb    mae  4292.539411\n",
       "2  Croston   M3  6b6a2f69-a0d7-4d7a-b191-570f267f315e    mae  2598.129639\n",
       "3  Croston   M4  c37c63fa-c946-4c83-b5f6-cafaf7371038    mae   788.396973\n",
       "4  Croston   M5  9de8c74d-219a-41a3-943f-05780f46d629    mae     2.850000"
      ]
     },
     "execution_count": 44,
     "metadata": {},
     "output_type": "execute_result"
    }
   ],
   "source": [
    "df_mae.head()"
   ]
  },
  {
   "cell_type": "code",
   "execution_count": 45,
   "id": "b8d0b885-eb63-4744-aad2-d8a20bbcf621",
   "metadata": {},
   "outputs": [
    {
     "data": {
      "text/html": [
       "<div>\n",
       "<style scoped>\n",
       "    .dataframe tbody tr th:only-of-type {\n",
       "        vertical-align: middle;\n",
       "    }\n",
       "\n",
       "    .dataframe tbody tr th {\n",
       "        vertical-align: top;\n",
       "    }\n",
       "\n",
       "    .dataframe thead tr th {\n",
       "        text-align: left;\n",
       "    }\n",
       "\n",
       "    .dataframe thead tr:last-of-type th {\n",
       "        text-align: right;\n",
       "    }\n",
       "</style>\n",
       "<table border=\"1\" class=\"dataframe\">\n",
       "  <thead>\n",
       "    <tr>\n",
       "      <th></th>\n",
       "      <th colspan=\"3\" halign=\"left\">value</th>\n",
       "    </tr>\n",
       "    <tr>\n",
       "      <th></th>\n",
       "      <th>median</th>\n",
       "      <th>mean</th>\n",
       "      <th>count</th>\n",
       "    </tr>\n",
       "    <tr>\n",
       "      <th>model</th>\n",
       "      <th></th>\n",
       "      <th></th>\n",
       "      <th></th>\n",
       "    </tr>\n",
       "  </thead>\n",
       "  <tbody>\n",
       "    <tr>\n",
       "      <th>Champion</th>\n",
       "      <td>0.177197</td>\n",
       "      <td>1542.055706</td>\n",
       "      <td>2907</td>\n",
       "    </tr>\n",
       "    <tr>\n",
       "      <th>Croston</th>\n",
       "      <td>1122.675903</td>\n",
       "      <td>3182.308402</td>\n",
       "      <td>2874</td>\n",
       "    </tr>\n",
       "    <tr>\n",
       "      <th>ExponentialSmoothing</th>\n",
       "      <td>1114.871584</td>\n",
       "      <td>3052.748432</td>\n",
       "      <td>2849</td>\n",
       "    </tr>\n",
       "    <tr>\n",
       "      <th>NaiveMean</th>\n",
       "      <td>654.747073</td>\n",
       "      <td>2458.947756</td>\n",
       "      <td>2907</td>\n",
       "    </tr>\n",
       "    <tr>\n",
       "      <th>NaiveMovingAverage</th>\n",
       "      <td>0.285714</td>\n",
       "      <td>2060.563026</td>\n",
       "      <td>2890</td>\n",
       "    </tr>\n",
       "    <tr>\n",
       "      <th>Prophet</th>\n",
       "      <td>1134.614526</td>\n",
       "      <td>2832.468756</td>\n",
       "      <td>2907</td>\n",
       "    </tr>\n",
       "    <tr>\n",
       "      <th>RandomForest</th>\n",
       "      <td>1.012904</td>\n",
       "      <td>2624.797254</td>\n",
       "      <td>2885</td>\n",
       "    </tr>\n",
       "    <tr>\n",
       "      <th>XGBModel</th>\n",
       "      <td>0.728441</td>\n",
       "      <td>2469.812136</td>\n",
       "      <td>2885</td>\n",
       "    </tr>\n",
       "  </tbody>\n",
       "</table>\n",
       "</div>"
      ],
      "text/plain": [
       "                            value                   \n",
       "                           median         mean count\n",
       "model                                               \n",
       "Champion                 0.177197  1542.055706  2907\n",
       "Croston               1122.675903  3182.308402  2874\n",
       "ExponentialSmoothing  1114.871584  3052.748432  2849\n",
       "NaiveMean              654.747073  2458.947756  2907\n",
       "NaiveMovingAverage       0.285714  2060.563026  2890\n",
       "Prophet               1134.614526  2832.468756  2907\n",
       "RandomForest             1.012904  2624.797254  2885\n",
       "XGBModel                 0.728441  2469.812136  2885"
      ]
     },
     "execution_count": 45,
     "metadata": {},
     "output_type": "execute_result"
    }
   ],
   "source": [
    "df_mae.groupby(\"model\").agg({\"value\": [\"median\", \"mean\", \"count\"]})"
   ]
  },
  {
   "cell_type": "code",
   "execution_count": 46,
   "id": "1b1b61c4-e019-4b97-974c-fd16a7029f94",
   "metadata": {},
   "outputs": [],
   "source": [
    "df_pred_vs_sales_on_test = spark.sql(\"\"\"\n",
    "    with champion_forecast_on_test (\n",
    "      select\n",
    "        'Champion' as model,\n",
    "        ft.city,\n",
    "        ft.product_id,\n",
    "        ft.date,\n",
    "        ft.sales\n",
    "      from\n",
    "        dev.forecast_on_test ft\n",
    "        inner join (\n",
    "          select\n",
    "            city,\n",
    "            product_id,\n",
    "            model\n",
    "          from\n",
    "            dev.best_models\n",
    "        ) bm on ft.city = bm.city\n",
    "        and ft.product_id = bm.product_id\n",
    "        and ft.model = bm.model\n",
    "    )\n",
    "    select\n",
    "      *\n",
    "    from\n",
    "      champion_forecast_on_test\n",
    "    union\n",
    "    select\n",
    "      *\n",
    "    from\n",
    "      dev.forecast_on_test\n",
    "    union\n",
    "    select\n",
    "      'Sales' as model,\n",
    "      city,\n",
    "      product_id,\n",
    "      date,\n",
    "      sales\n",
    "    from\n",
    "      dev.split\n",
    "    where\n",
    "      split = 'test'\n",
    "    \"\"\"\n",
    ").toPandas()"
   ]
  },
  {
   "cell_type": "code",
   "execution_count": 47,
   "id": "f7f46656-2ec2-4262-ad84-0b7602b18dd6",
   "metadata": {},
   "outputs": [
    {
     "data": {
      "text/html": [
       "<div>\n",
       "<style scoped>\n",
       "    .dataframe tbody tr th:only-of-type {\n",
       "        vertical-align: middle;\n",
       "    }\n",
       "\n",
       "    .dataframe tbody tr th {\n",
       "        vertical-align: top;\n",
       "    }\n",
       "\n",
       "    .dataframe thead th {\n",
       "        text-align: right;\n",
       "    }\n",
       "</style>\n",
       "<table border=\"1\" class=\"dataframe\">\n",
       "  <thead>\n",
       "    <tr style=\"text-align: right;\">\n",
       "      <th></th>\n",
       "      <th>model</th>\n",
       "      <th>city</th>\n",
       "      <th>product_id</th>\n",
       "      <th>date</th>\n",
       "      <th>sales</th>\n",
       "    </tr>\n",
       "  </thead>\n",
       "  <tbody>\n",
       "    <tr>\n",
       "      <th>0</th>\n",
       "      <td>Champion</td>\n",
       "      <td>B2</td>\n",
       "      <td>defecb65-93a5-43fb-845c-d42201cedcec</td>\n",
       "      <td>2024-08-02</td>\n",
       "      <td>163.647619</td>\n",
       "    </tr>\n",
       "    <tr>\n",
       "      <th>1</th>\n",
       "      <td>Champion</td>\n",
       "      <td>B3</td>\n",
       "      <td>1c9641b7-ba05-4b66-92f6-c04d046ab618</td>\n",
       "      <td>2024-08-03</td>\n",
       "      <td>10015.681246</td>\n",
       "    </tr>\n",
       "    <tr>\n",
       "      <th>2</th>\n",
       "      <td>Champion</td>\n",
       "      <td>M4</td>\n",
       "      <td>d5d73b79-48aa-4a36-8eed-86c311ec3bc9</td>\n",
       "      <td>2024-08-01</td>\n",
       "      <td>5207.832981</td>\n",
       "    </tr>\n",
       "    <tr>\n",
       "      <th>3</th>\n",
       "      <td>Champion</td>\n",
       "      <td>B2</td>\n",
       "      <td>f5799df6-9026-479a-b350-a3ae95d3f373</td>\n",
       "      <td>2024-08-07</td>\n",
       "      <td>0.514070</td>\n",
       "    </tr>\n",
       "    <tr>\n",
       "      <th>4</th>\n",
       "      <td>Champion</td>\n",
       "      <td>M3</td>\n",
       "      <td>16d20241-60b0-4c6b-b7e3-b8b5e7f3f9e6</td>\n",
       "      <td>2024-08-04</td>\n",
       "      <td>10776.777889</td>\n",
       "    </tr>\n",
       "  </tbody>\n",
       "</table>\n",
       "</div>"
      ],
      "text/plain": [
       "      model city                            product_id        date  \\\n",
       "0  Champion   B2  defecb65-93a5-43fb-845c-d42201cedcec  2024-08-02   \n",
       "1  Champion   B3  1c9641b7-ba05-4b66-92f6-c04d046ab618  2024-08-03   \n",
       "2  Champion   M4  d5d73b79-48aa-4a36-8eed-86c311ec3bc9  2024-08-01   \n",
       "3  Champion   B2  f5799df6-9026-479a-b350-a3ae95d3f373  2024-08-07   \n",
       "4  Champion   M3  16d20241-60b0-4c6b-b7e3-b8b5e7f3f9e6  2024-08-04   \n",
       "\n",
       "          sales  \n",
       "0    163.647619  \n",
       "1  10015.681246  \n",
       "2   5207.832981  \n",
       "3      0.514070  \n",
       "4  10776.777889  "
      ]
     },
     "execution_count": 47,
     "metadata": {},
     "output_type": "execute_result"
    }
   ],
   "source": [
    "df_pred_vs_sales_on_test.head()"
   ]
  },
  {
   "cell_type": "code",
   "execution_count": 48,
   "id": "52d78734-fab8-46b1-9c26-f70674df3dc4",
   "metadata": {},
   "outputs": [
    {
     "data": {
      "text/html": [
       "<div>\n",
       "<style scoped>\n",
       "    .dataframe tbody tr th:only-of-type {\n",
       "        vertical-align: middle;\n",
       "    }\n",
       "\n",
       "    .dataframe tbody tr th {\n",
       "        vertical-align: top;\n",
       "    }\n",
       "\n",
       "    .dataframe thead th {\n",
       "        text-align: right;\n",
       "    }\n",
       "</style>\n",
       "<table border=\"1\" class=\"dataframe\">\n",
       "  <thead>\n",
       "    <tr style=\"text-align: right;\">\n",
       "      <th></th>\n",
       "      <th>sales</th>\n",
       "    </tr>\n",
       "    <tr>\n",
       "      <th>model</th>\n",
       "      <th></th>\n",
       "    </tr>\n",
       "  </thead>\n",
       "  <tbody>\n",
       "    <tr>\n",
       "      <th>Champion</th>\n",
       "      <td>2.474019e+07</td>\n",
       "    </tr>\n",
       "    <tr>\n",
       "      <th>Croston</th>\n",
       "      <td>5.386235e+07</td>\n",
       "    </tr>\n",
       "    <tr>\n",
       "      <th>ExponentialSmoothing</th>\n",
       "      <td>2.971609e+07</td>\n",
       "    </tr>\n",
       "    <tr>\n",
       "      <th>NaiveMean</th>\n",
       "      <td>4.225166e+07</td>\n",
       "    </tr>\n",
       "    <tr>\n",
       "      <th>NaiveMovingAverage</th>\n",
       "      <td>3.040314e+07</td>\n",
       "    </tr>\n",
       "    <tr>\n",
       "      <th>Prophet</th>\n",
       "      <td>2.616831e+07</td>\n",
       "    </tr>\n",
       "    <tr>\n",
       "      <th>RandomForest</th>\n",
       "      <td>4.751005e+07</td>\n",
       "    </tr>\n",
       "    <tr>\n",
       "      <th>Sales</th>\n",
       "      <td>3.495823e+07</td>\n",
       "    </tr>\n",
       "    <tr>\n",
       "      <th>XGBModel</th>\n",
       "      <td>4.079096e+07</td>\n",
       "    </tr>\n",
       "  </tbody>\n",
       "</table>\n",
       "</div>"
      ],
      "text/plain": [
       "                             sales\n",
       "model                             \n",
       "Champion              2.474019e+07\n",
       "Croston               5.386235e+07\n",
       "ExponentialSmoothing  2.971609e+07\n",
       "NaiveMean             4.225166e+07\n",
       "NaiveMovingAverage    3.040314e+07\n",
       "Prophet               2.616831e+07\n",
       "RandomForest          4.751005e+07\n",
       "Sales                 3.495823e+07\n",
       "XGBModel              4.079096e+07"
      ]
     },
     "execution_count": 48,
     "metadata": {},
     "output_type": "execute_result"
    }
   ],
   "source": [
    "df_pred_vs_sales_on_test.groupby([\"model\"]).agg({\"sales\": \"sum\"})"
   ]
  },
  {
   "cell_type": "code",
   "execution_count": 49,
   "id": "17eb5fa8-af5a-4b21-aed4-4f896ac03601",
   "metadata": {},
   "outputs": [
    {
     "data": {
      "text/html": [
       "<div>\n",
       "<style scoped>\n",
       "    .dataframe tbody tr th:only-of-type {\n",
       "        vertical-align: middle;\n",
       "    }\n",
       "\n",
       "    .dataframe tbody tr th {\n",
       "        vertical-align: top;\n",
       "    }\n",
       "\n",
       "    .dataframe thead th {\n",
       "        text-align: right;\n",
       "    }\n",
       "</style>\n",
       "<table border=\"1\" class=\"dataframe\">\n",
       "  <thead>\n",
       "    <tr style=\"text-align: right;\">\n",
       "      <th></th>\n",
       "      <th></th>\n",
       "      <th>sales</th>\n",
       "    </tr>\n",
       "    <tr>\n",
       "      <th>model</th>\n",
       "      <th>date</th>\n",
       "      <th></th>\n",
       "    </tr>\n",
       "  </thead>\n",
       "  <tbody>\n",
       "    <tr>\n",
       "      <th rowspan=\"7\" valign=\"top\">Champion</th>\n",
       "      <th>2024-08-01</th>\n",
       "      <td>3.330759e+06</td>\n",
       "    </tr>\n",
       "    <tr>\n",
       "      <th>2024-08-02</th>\n",
       "      <td>3.204615e+06</td>\n",
       "    </tr>\n",
       "    <tr>\n",
       "      <th>2024-08-03</th>\n",
       "      <td>3.142960e+06</td>\n",
       "    </tr>\n",
       "    <tr>\n",
       "      <th>2024-08-04</th>\n",
       "      <td>3.548915e+06</td>\n",
       "    </tr>\n",
       "    <tr>\n",
       "      <th>2024-08-05</th>\n",
       "      <td>3.833428e+06</td>\n",
       "    </tr>\n",
       "    <tr>\n",
       "      <th>2024-08-06</th>\n",
       "      <td>3.983461e+06</td>\n",
       "    </tr>\n",
       "    <tr>\n",
       "      <th>2024-08-07</th>\n",
       "      <td>3.696048e+06</td>\n",
       "    </tr>\n",
       "    <tr>\n",
       "      <th rowspan=\"3\" valign=\"top\">Croston</th>\n",
       "      <th>2024-08-01</th>\n",
       "      <td>7.694622e+06</td>\n",
       "    </tr>\n",
       "    <tr>\n",
       "      <th>2024-08-02</th>\n",
       "      <td>7.694622e+06</td>\n",
       "    </tr>\n",
       "    <tr>\n",
       "      <th>2024-08-03</th>\n",
       "      <td>7.694622e+06</td>\n",
       "    </tr>\n",
       "  </tbody>\n",
       "</table>\n",
       "</div>"
      ],
      "text/plain": [
       "                            sales\n",
       "model    date                    \n",
       "Champion 2024-08-01  3.330759e+06\n",
       "         2024-08-02  3.204615e+06\n",
       "         2024-08-03  3.142960e+06\n",
       "         2024-08-04  3.548915e+06\n",
       "         2024-08-05  3.833428e+06\n",
       "         2024-08-06  3.983461e+06\n",
       "         2024-08-07  3.696048e+06\n",
       "Croston  2024-08-01  7.694622e+06\n",
       "         2024-08-02  7.694622e+06\n",
       "         2024-08-03  7.694622e+06"
      ]
     },
     "execution_count": 49,
     "metadata": {},
     "output_type": "execute_result"
    }
   ],
   "source": [
    "df_pred_vs_sales_on_test.groupby([\"model\", \"date\"]).agg({\"sales\": \"sum\"}).head(10)"
   ]
  },
  {
   "cell_type": "code",
   "execution_count": 50,
   "id": "8aeb5c45-82fa-469c-975d-955d20c517e9",
   "metadata": {},
   "outputs": [],
   "source": [
    "df_output = spark.read.table(\"dev.output\").toPandas()"
   ]
  },
  {
   "cell_type": "code",
   "execution_count": 51,
   "id": "a0443504-eb52-40ee-bf01-0a6eacc83c5a",
   "metadata": {},
   "outputs": [
    {
     "data": {
      "text/html": [
       "<div>\n",
       "<style scoped>\n",
       "    .dataframe tbody tr th:only-of-type {\n",
       "        vertical-align: middle;\n",
       "    }\n",
       "\n",
       "    .dataframe tbody tr th {\n",
       "        vertical-align: top;\n",
       "    }\n",
       "\n",
       "    .dataframe thead th {\n",
       "        text-align: right;\n",
       "    }\n",
       "</style>\n",
       "<table border=\"1\" class=\"dataframe\">\n",
       "  <thead>\n",
       "    <tr style=\"text-align: right;\">\n",
       "      <th></th>\n",
       "      <th>product_id</th>\n",
       "      <th>date</th>\n",
       "      <th>city</th>\n",
       "      <th>sales</th>\n",
       "    </tr>\n",
       "  </thead>\n",
       "  <tbody>\n",
       "    <tr>\n",
       "      <th>0</th>\n",
       "      <td>00afde38-77a7-410e-8f94-9d1110a44693</td>\n",
       "      <td>2024-08-10</td>\n",
       "      <td>B1</td>\n",
       "      <td>0.0</td>\n",
       "    </tr>\n",
       "    <tr>\n",
       "      <th>1</th>\n",
       "      <td>00afde38-77a7-410e-8f94-9d1110a44693</td>\n",
       "      <td>2024-08-09</td>\n",
       "      <td>B1</td>\n",
       "      <td>0.0</td>\n",
       "    </tr>\n",
       "    <tr>\n",
       "      <th>2</th>\n",
       "      <td>00afde38-77a7-410e-8f94-9d1110a44693</td>\n",
       "      <td>2024-08-08</td>\n",
       "      <td>B1</td>\n",
       "      <td>0.0</td>\n",
       "    </tr>\n",
       "    <tr>\n",
       "      <th>3</th>\n",
       "      <td>00dac0d3-3b8f-4d7f-919a-bfb852e11148</td>\n",
       "      <td>2024-08-10</td>\n",
       "      <td>B1</td>\n",
       "      <td>0.0</td>\n",
       "    </tr>\n",
       "    <tr>\n",
       "      <th>4</th>\n",
       "      <td>00dac0d3-3b8f-4d7f-919a-bfb852e11148</td>\n",
       "      <td>2024-08-09</td>\n",
       "      <td>B1</td>\n",
       "      <td>0.0</td>\n",
       "    </tr>\n",
       "  </tbody>\n",
       "</table>\n",
       "</div>"
      ],
      "text/plain": [
       "                             product_id        date city  sales\n",
       "0  00afde38-77a7-410e-8f94-9d1110a44693  2024-08-10   B1    0.0\n",
       "1  00afde38-77a7-410e-8f94-9d1110a44693  2024-08-09   B1    0.0\n",
       "2  00afde38-77a7-410e-8f94-9d1110a44693  2024-08-08   B1    0.0\n",
       "3  00dac0d3-3b8f-4d7f-919a-bfb852e11148  2024-08-10   B1    0.0\n",
       "4  00dac0d3-3b8f-4d7f-919a-bfb852e11148  2024-08-09   B1    0.0"
      ]
     },
     "execution_count": 51,
     "metadata": {},
     "output_type": "execute_result"
    }
   ],
   "source": [
    "df_output.head()"
   ]
  },
  {
   "cell_type": "code",
   "execution_count": 52,
   "id": "f4a63733-d544-4099-b2d3-e1366f57bb9f",
   "metadata": {},
   "outputs": [
    {
     "data": {
      "text/html": [
       "<div>\n",
       "<style scoped>\n",
       "    .dataframe tbody tr th:only-of-type {\n",
       "        vertical-align: middle;\n",
       "    }\n",
       "\n",
       "    .dataframe tbody tr th {\n",
       "        vertical-align: top;\n",
       "    }\n",
       "\n",
       "    .dataframe thead th {\n",
       "        text-align: right;\n",
       "    }\n",
       "</style>\n",
       "<table border=\"1\" class=\"dataframe\">\n",
       "  <thead>\n",
       "    <tr style=\"text-align: right;\">\n",
       "      <th></th>\n",
       "      <th>sales</th>\n",
       "    </tr>\n",
       "    <tr>\n",
       "      <th>date</th>\n",
       "      <th></th>\n",
       "    </tr>\n",
       "  </thead>\n",
       "  <tbody>\n",
       "    <tr>\n",
       "      <th>2024-08-08</th>\n",
       "      <td>4.066511e+07</td>\n",
       "    </tr>\n",
       "    <tr>\n",
       "      <th>2024-08-09</th>\n",
       "      <td>4.053468e+07</td>\n",
       "    </tr>\n",
       "    <tr>\n",
       "      <th>2024-08-10</th>\n",
       "      <td>4.032793e+07</td>\n",
       "    </tr>\n",
       "  </tbody>\n",
       "</table>\n",
       "</div>"
      ],
      "text/plain": [
       "                   sales\n",
       "date                    \n",
       "2024-08-08  4.066511e+07\n",
       "2024-08-09  4.053468e+07\n",
       "2024-08-10  4.032793e+07"
      ]
     },
     "execution_count": 52,
     "metadata": {},
     "output_type": "execute_result"
    }
   ],
   "source": [
    "df_output.groupby(\"date\").agg({\"sales\": \"sum\"})"
   ]
  },
  {
   "cell_type": "markdown",
   "id": "2d297025-22b2-4e42-a192-b2789ee89b1a",
   "metadata": {},
   "source": [
    "# Delete temporal data"
   ]
  },
  {
   "cell_type": "code",
   "execution_count": 55,
   "id": "a6341409-111e-46ce-9e26-f29088ae2ee3",
   "metadata": {},
   "outputs": [],
   "source": [
    "spark.stop()\n",
    "if Path(warehouse_dir).exists():\n",
    "    shutil.rmtree(warehouse_dir)"
   ]
  },
  {
   "cell_type": "code",
   "execution_count": 56,
   "id": "2413896d-3f8d-4f84-abfa-ae1c51f6763e",
   "metadata": {},
   "outputs": [],
   "source": [
    "mlflow.end_run()"
   ]
  }
 ],
 "metadata": {
  "kernelspec": {
   "display_name": "Python 3 (ipykernel)",
   "language": "python",
   "name": "python3"
  },
  "language_info": {
   "codemirror_mode": {
    "name": "ipython",
    "version": 3
   },
   "file_extension": ".py",
   "mimetype": "text/x-python",
   "name": "python",
   "nbconvert_exporter": "python",
   "pygments_lexer": "ipython3",
   "version": "3.11.3"
  }
 },
 "nbformat": 4,
 "nbformat_minor": 5
}
